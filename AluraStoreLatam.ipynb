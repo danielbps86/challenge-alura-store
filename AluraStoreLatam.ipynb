{
  "nbformat": 4,
  "nbformat_minor": 0,
  "metadata": {
    "colab": {
      "provenance": []
    },
    "kernelspec": {
      "name": "python3",
      "display_name": "Python 3"
    },
    "language_info": {
      "name": "python"
    }
  },
  "cells": [
    {
      "cell_type": "markdown",
      "source": [
        "### Importación de datos\n",
        "\n"
      ],
      "metadata": {
        "id": "RhEdWd9YUR6H"
      }
    },
    {
      "cell_type": "code",
      "execution_count": 4,
      "metadata": {
        "colab": {
          "base_uri": "https://localhost:8080/",
          "height": 206
        },
        "id": "T3EvaeQ_INIL",
        "outputId": "c038bd0b-7f8a-4f6f-9688-0509c131ea61",
        "collapsed": true
      },
      "outputs": [
        {
          "output_type": "execute_result",
          "data": {
            "text/plain": [
              "            Producto Categoría del Producto    Precio  Costo de envío  \\\n",
              "0  Asistente virtual           Electrónicos  164300.0          6900.0   \n",
              "1    Mesa de comedor                Muebles  192300.0          8400.0   \n",
              "2      Juego de mesa               Juguetes  209600.0         15900.0   \n",
              "3         Microondas      Electrodomésticos  757500.0         41000.0   \n",
              "4   Silla de oficina                Muebles  335200.0         20200.0   \n",
              "\n",
              "  Fecha de Compra         Vendedor Lugar de Compra  Calificación  \\\n",
              "0      16/01/2021      Pedro Gomez          Bogotá             4   \n",
              "1      18/05/2022  Beatriz Morales        Medellín             1   \n",
              "2      15/03/2021   Juan Fernandez       Cartagena             1   \n",
              "3      03/05/2022   Juan Fernandez            Cali             4   \n",
              "4      07/11/2020    Maria Alfonso        Medellín             5   \n",
              "\n",
              "       Método de pago  Cantidad de cuotas       lat       lon  \n",
              "0  Tarjeta de crédito                   8   4.60971 -74.08175  \n",
              "1  Tarjeta de crédito                   4   6.25184 -75.56359  \n",
              "2  Tarjeta de crédito                   1  10.39972 -75.51444  \n",
              "3               Nequi                   1   3.43722 -76.52250  \n",
              "4               Nequi                   1   6.25184 -75.56359  "
            ],
            "text/html": [
              "\n",
              "  <div id=\"df-b3967f40-b1e2-41c7-a5eb-c75b083807b5\" class=\"colab-df-container\">\n",
              "    <div>\n",
              "<style scoped>\n",
              "    .dataframe tbody tr th:only-of-type {\n",
              "        vertical-align: middle;\n",
              "    }\n",
              "\n",
              "    .dataframe tbody tr th {\n",
              "        vertical-align: top;\n",
              "    }\n",
              "\n",
              "    .dataframe thead th {\n",
              "        text-align: right;\n",
              "    }\n",
              "</style>\n",
              "<table border=\"1\" class=\"dataframe\">\n",
              "  <thead>\n",
              "    <tr style=\"text-align: right;\">\n",
              "      <th></th>\n",
              "      <th>Producto</th>\n",
              "      <th>Categoría del Producto</th>\n",
              "      <th>Precio</th>\n",
              "      <th>Costo de envío</th>\n",
              "      <th>Fecha de Compra</th>\n",
              "      <th>Vendedor</th>\n",
              "      <th>Lugar de Compra</th>\n",
              "      <th>Calificación</th>\n",
              "      <th>Método de pago</th>\n",
              "      <th>Cantidad de cuotas</th>\n",
              "      <th>lat</th>\n",
              "      <th>lon</th>\n",
              "    </tr>\n",
              "  </thead>\n",
              "  <tbody>\n",
              "    <tr>\n",
              "      <th>0</th>\n",
              "      <td>Asistente virtual</td>\n",
              "      <td>Electrónicos</td>\n",
              "      <td>164300.0</td>\n",
              "      <td>6900.0</td>\n",
              "      <td>16/01/2021</td>\n",
              "      <td>Pedro Gomez</td>\n",
              "      <td>Bogotá</td>\n",
              "      <td>4</td>\n",
              "      <td>Tarjeta de crédito</td>\n",
              "      <td>8</td>\n",
              "      <td>4.60971</td>\n",
              "      <td>-74.08175</td>\n",
              "    </tr>\n",
              "    <tr>\n",
              "      <th>1</th>\n",
              "      <td>Mesa de comedor</td>\n",
              "      <td>Muebles</td>\n",
              "      <td>192300.0</td>\n",
              "      <td>8400.0</td>\n",
              "      <td>18/05/2022</td>\n",
              "      <td>Beatriz Morales</td>\n",
              "      <td>Medellín</td>\n",
              "      <td>1</td>\n",
              "      <td>Tarjeta de crédito</td>\n",
              "      <td>4</td>\n",
              "      <td>6.25184</td>\n",
              "      <td>-75.56359</td>\n",
              "    </tr>\n",
              "    <tr>\n",
              "      <th>2</th>\n",
              "      <td>Juego de mesa</td>\n",
              "      <td>Juguetes</td>\n",
              "      <td>209600.0</td>\n",
              "      <td>15900.0</td>\n",
              "      <td>15/03/2021</td>\n",
              "      <td>Juan Fernandez</td>\n",
              "      <td>Cartagena</td>\n",
              "      <td>1</td>\n",
              "      <td>Tarjeta de crédito</td>\n",
              "      <td>1</td>\n",
              "      <td>10.39972</td>\n",
              "      <td>-75.51444</td>\n",
              "    </tr>\n",
              "    <tr>\n",
              "      <th>3</th>\n",
              "      <td>Microondas</td>\n",
              "      <td>Electrodomésticos</td>\n",
              "      <td>757500.0</td>\n",
              "      <td>41000.0</td>\n",
              "      <td>03/05/2022</td>\n",
              "      <td>Juan Fernandez</td>\n",
              "      <td>Cali</td>\n",
              "      <td>4</td>\n",
              "      <td>Nequi</td>\n",
              "      <td>1</td>\n",
              "      <td>3.43722</td>\n",
              "      <td>-76.52250</td>\n",
              "    </tr>\n",
              "    <tr>\n",
              "      <th>4</th>\n",
              "      <td>Silla de oficina</td>\n",
              "      <td>Muebles</td>\n",
              "      <td>335200.0</td>\n",
              "      <td>20200.0</td>\n",
              "      <td>07/11/2020</td>\n",
              "      <td>Maria Alfonso</td>\n",
              "      <td>Medellín</td>\n",
              "      <td>5</td>\n",
              "      <td>Nequi</td>\n",
              "      <td>1</td>\n",
              "      <td>6.25184</td>\n",
              "      <td>-75.56359</td>\n",
              "    </tr>\n",
              "  </tbody>\n",
              "</table>\n",
              "</div>\n",
              "    <div class=\"colab-df-buttons\">\n",
              "\n",
              "  <div class=\"colab-df-container\">\n",
              "    <button class=\"colab-df-convert\" onclick=\"convertToInteractive('df-b3967f40-b1e2-41c7-a5eb-c75b083807b5')\"\n",
              "            title=\"Convert this dataframe to an interactive table.\"\n",
              "            style=\"display:none;\">\n",
              "\n",
              "  <svg xmlns=\"http://www.w3.org/2000/svg\" height=\"24px\" viewBox=\"0 -960 960 960\">\n",
              "    <path d=\"M120-120v-720h720v720H120Zm60-500h600v-160H180v160Zm220 220h160v-160H400v160Zm0 220h160v-160H400v160ZM180-400h160v-160H180v160Zm440 0h160v-160H620v160ZM180-180h160v-160H180v160Zm440 0h160v-160H620v160Z\"/>\n",
              "  </svg>\n",
              "    </button>\n",
              "\n",
              "  <style>\n",
              "    .colab-df-container {\n",
              "      display:flex;\n",
              "      gap: 12px;\n",
              "    }\n",
              "\n",
              "    .colab-df-convert {\n",
              "      background-color: #E8F0FE;\n",
              "      border: none;\n",
              "      border-radius: 50%;\n",
              "      cursor: pointer;\n",
              "      display: none;\n",
              "      fill: #1967D2;\n",
              "      height: 32px;\n",
              "      padding: 0 0 0 0;\n",
              "      width: 32px;\n",
              "    }\n",
              "\n",
              "    .colab-df-convert:hover {\n",
              "      background-color: #E2EBFA;\n",
              "      box-shadow: 0px 1px 2px rgba(60, 64, 67, 0.3), 0px 1px 3px 1px rgba(60, 64, 67, 0.15);\n",
              "      fill: #174EA6;\n",
              "    }\n",
              "\n",
              "    .colab-df-buttons div {\n",
              "      margin-bottom: 4px;\n",
              "    }\n",
              "\n",
              "    [theme=dark] .colab-df-convert {\n",
              "      background-color: #3B4455;\n",
              "      fill: #D2E3FC;\n",
              "    }\n",
              "\n",
              "    [theme=dark] .colab-df-convert:hover {\n",
              "      background-color: #434B5C;\n",
              "      box-shadow: 0px 1px 3px 1px rgba(0, 0, 0, 0.15);\n",
              "      filter: drop-shadow(0px 1px 2px rgba(0, 0, 0, 0.3));\n",
              "      fill: #FFFFFF;\n",
              "    }\n",
              "  </style>\n",
              "\n",
              "    <script>\n",
              "      const buttonEl =\n",
              "        document.querySelector('#df-b3967f40-b1e2-41c7-a5eb-c75b083807b5 button.colab-df-convert');\n",
              "      buttonEl.style.display =\n",
              "        google.colab.kernel.accessAllowed ? 'block' : 'none';\n",
              "\n",
              "      async function convertToInteractive(key) {\n",
              "        const element = document.querySelector('#df-b3967f40-b1e2-41c7-a5eb-c75b083807b5');\n",
              "        const dataTable =\n",
              "          await google.colab.kernel.invokeFunction('convertToInteractive',\n",
              "                                                    [key], {});\n",
              "        if (!dataTable) return;\n",
              "\n",
              "        const docLinkHtml = 'Like what you see? Visit the ' +\n",
              "          '<a target=\"_blank\" href=https://colab.research.google.com/notebooks/data_table.ipynb>data table notebook</a>'\n",
              "          + ' to learn more about interactive tables.';\n",
              "        element.innerHTML = '';\n",
              "        dataTable['output_type'] = 'display_data';\n",
              "        await google.colab.output.renderOutput(dataTable, element);\n",
              "        const docLink = document.createElement('div');\n",
              "        docLink.innerHTML = docLinkHtml;\n",
              "        element.appendChild(docLink);\n",
              "      }\n",
              "    </script>\n",
              "  </div>\n",
              "\n",
              "\n",
              "    <div id=\"df-1b07ea22-8c25-4d60-bb0b-5c029980cee6\">\n",
              "      <button class=\"colab-df-quickchart\" onclick=\"quickchart('df-1b07ea22-8c25-4d60-bb0b-5c029980cee6')\"\n",
              "                title=\"Suggest charts\"\n",
              "                style=\"display:none;\">\n",
              "\n",
              "<svg xmlns=\"http://www.w3.org/2000/svg\" height=\"24px\"viewBox=\"0 0 24 24\"\n",
              "     width=\"24px\">\n",
              "    <g>\n",
              "        <path d=\"M19 3H5c-1.1 0-2 .9-2 2v14c0 1.1.9 2 2 2h14c1.1 0 2-.9 2-2V5c0-1.1-.9-2-2-2zM9 17H7v-7h2v7zm4 0h-2V7h2v10zm4 0h-2v-4h2v4z\"/>\n",
              "    </g>\n",
              "</svg>\n",
              "      </button>\n",
              "\n",
              "<style>\n",
              "  .colab-df-quickchart {\n",
              "      --bg-color: #E8F0FE;\n",
              "      --fill-color: #1967D2;\n",
              "      --hover-bg-color: #E2EBFA;\n",
              "      --hover-fill-color: #174EA6;\n",
              "      --disabled-fill-color: #AAA;\n",
              "      --disabled-bg-color: #DDD;\n",
              "  }\n",
              "\n",
              "  [theme=dark] .colab-df-quickchart {\n",
              "      --bg-color: #3B4455;\n",
              "      --fill-color: #D2E3FC;\n",
              "      --hover-bg-color: #434B5C;\n",
              "      --hover-fill-color: #FFFFFF;\n",
              "      --disabled-bg-color: #3B4455;\n",
              "      --disabled-fill-color: #666;\n",
              "  }\n",
              "\n",
              "  .colab-df-quickchart {\n",
              "    background-color: var(--bg-color);\n",
              "    border: none;\n",
              "    border-radius: 50%;\n",
              "    cursor: pointer;\n",
              "    display: none;\n",
              "    fill: var(--fill-color);\n",
              "    height: 32px;\n",
              "    padding: 0;\n",
              "    width: 32px;\n",
              "  }\n",
              "\n",
              "  .colab-df-quickchart:hover {\n",
              "    background-color: var(--hover-bg-color);\n",
              "    box-shadow: 0 1px 2px rgba(60, 64, 67, 0.3), 0 1px 3px 1px rgba(60, 64, 67, 0.15);\n",
              "    fill: var(--button-hover-fill-color);\n",
              "  }\n",
              "\n",
              "  .colab-df-quickchart-complete:disabled,\n",
              "  .colab-df-quickchart-complete:disabled:hover {\n",
              "    background-color: var(--disabled-bg-color);\n",
              "    fill: var(--disabled-fill-color);\n",
              "    box-shadow: none;\n",
              "  }\n",
              "\n",
              "  .colab-df-spinner {\n",
              "    border: 2px solid var(--fill-color);\n",
              "    border-color: transparent;\n",
              "    border-bottom-color: var(--fill-color);\n",
              "    animation:\n",
              "      spin 1s steps(1) infinite;\n",
              "  }\n",
              "\n",
              "  @keyframes spin {\n",
              "    0% {\n",
              "      border-color: transparent;\n",
              "      border-bottom-color: var(--fill-color);\n",
              "      border-left-color: var(--fill-color);\n",
              "    }\n",
              "    20% {\n",
              "      border-color: transparent;\n",
              "      border-left-color: var(--fill-color);\n",
              "      border-top-color: var(--fill-color);\n",
              "    }\n",
              "    30% {\n",
              "      border-color: transparent;\n",
              "      border-left-color: var(--fill-color);\n",
              "      border-top-color: var(--fill-color);\n",
              "      border-right-color: var(--fill-color);\n",
              "    }\n",
              "    40% {\n",
              "      border-color: transparent;\n",
              "      border-right-color: var(--fill-color);\n",
              "      border-top-color: var(--fill-color);\n",
              "    }\n",
              "    60% {\n",
              "      border-color: transparent;\n",
              "      border-right-color: var(--fill-color);\n",
              "    }\n",
              "    80% {\n",
              "      border-color: transparent;\n",
              "      border-right-color: var(--fill-color);\n",
              "      border-bottom-color: var(--fill-color);\n",
              "    }\n",
              "    90% {\n",
              "      border-color: transparent;\n",
              "      border-bottom-color: var(--fill-color);\n",
              "    }\n",
              "  }\n",
              "</style>\n",
              "\n",
              "      <script>\n",
              "        async function quickchart(key) {\n",
              "          const quickchartButtonEl =\n",
              "            document.querySelector('#' + key + ' button');\n",
              "          quickchartButtonEl.disabled = true;  // To prevent multiple clicks.\n",
              "          quickchartButtonEl.classList.add('colab-df-spinner');\n",
              "          try {\n",
              "            const charts = await google.colab.kernel.invokeFunction(\n",
              "                'suggestCharts', [key], {});\n",
              "          } catch (error) {\n",
              "            console.error('Error during call to suggestCharts:', error);\n",
              "          }\n",
              "          quickchartButtonEl.classList.remove('colab-df-spinner');\n",
              "          quickchartButtonEl.classList.add('colab-df-quickchart-complete');\n",
              "        }\n",
              "        (() => {\n",
              "          let quickchartButtonEl =\n",
              "            document.querySelector('#df-1b07ea22-8c25-4d60-bb0b-5c029980cee6 button');\n",
              "          quickchartButtonEl.style.display =\n",
              "            google.colab.kernel.accessAllowed ? 'block' : 'none';\n",
              "        })();\n",
              "      </script>\n",
              "    </div>\n",
              "\n",
              "    </div>\n",
              "  </div>\n"
            ],
            "application/vnd.google.colaboratory.intrinsic+json": {
              "type": "dataframe",
              "variable_name": "tienda",
              "summary": "{\n  \"name\": \"tienda\",\n  \"rows\": 2359,\n  \"fields\": [\n    {\n      \"column\": \"Producto\",\n      \"properties\": {\n        \"dtype\": \"category\",\n        \"num_unique_values\": 51,\n        \"samples\": [\n          \"Guitarra ac\\u00fastica\",\n          \"Bal\\u00f3n de baloncesto\",\n          \"Smartwatch\"\n        ],\n        \"semantic_type\": \"\",\n        \"description\": \"\"\n      }\n    },\n    {\n      \"column\": \"Categor\\u00eda del Producto\",\n      \"properties\": {\n        \"dtype\": \"category\",\n        \"num_unique_values\": 8,\n        \"samples\": [\n          \"Muebles\",\n          \"Deportes y diversi\\u00f3n\",\n          \"Electr\\u00f3nicos\"\n        ],\n        \"semantic_type\": \"\",\n        \"description\": \"\"\n      }\n    },\n    {\n      \"column\": \"Precio\",\n      \"properties\": {\n        \"dtype\": \"number\",\n        \"std\": 614686.7653873172,\n        \"min\": 7600.0,\n        \"max\": 2977000.0,\n        \"num_unique_values\": 1937,\n        \"samples\": [\n          2499400.0,\n          14800.0,\n          80500.0\n        ],\n        \"semantic_type\": \"\",\n        \"description\": \"\"\n      }\n    },\n    {\n      \"column\": \"Costo de env\\u00edo\",\n      \"properties\": {\n        \"dtype\": \"number\",\n        \"std\": 32860.0017825605,\n        \"min\": 0.0,\n        \"max\": 160800.0,\n        \"num_unique_values\": 753,\n        \"samples\": [\n          117800.0,\n          54700.0,\n          45600.0\n        ],\n        \"semantic_type\": \"\",\n        \"description\": \"\"\n      }\n    },\n    {\n      \"column\": \"Fecha de Compra\",\n      \"properties\": {\n        \"dtype\": \"object\",\n        \"num_unique_values\": 1018,\n        \"samples\": [\n          \"15/09/2022\",\n          \"03/06/2020\",\n          \"06/11/2021\"\n        ],\n        \"semantic_type\": \"\",\n        \"description\": \"\"\n      }\n    },\n    {\n      \"column\": \"Vendedor\",\n      \"properties\": {\n        \"dtype\": \"category\",\n        \"num_unique_values\": 14,\n        \"samples\": [\n          \"Juliana Costa\",\n          \"Mariana Herrera\",\n          \"Pedro Gomez\"\n        ],\n        \"semantic_type\": \"\",\n        \"description\": \"\"\n      }\n    },\n    {\n      \"column\": \"Lugar de Compra\",\n      \"properties\": {\n        \"dtype\": \"category\",\n        \"num_unique_values\": 19,\n        \"samples\": [\n          \"Bogot\\u00e1\",\n          \"Pereira\",\n          \"Neiva\"\n        ],\n        \"semantic_type\": \"\",\n        \"description\": \"\"\n      }\n    },\n    {\n      \"column\": \"Calificaci\\u00f3n\",\n      \"properties\": {\n        \"dtype\": \"number\",\n        \"std\": 1,\n        \"min\": 1,\n        \"max\": 5,\n        \"num_unique_values\": 5,\n        \"samples\": [\n          1,\n          2,\n          5\n        ],\n        \"semantic_type\": \"\",\n        \"description\": \"\"\n      }\n    },\n    {\n      \"column\": \"M\\u00e9todo de pago\",\n      \"properties\": {\n        \"dtype\": \"category\",\n        \"num_unique_values\": 4,\n        \"samples\": [\n          \"Nequi\",\n          \"Tarjeta de d\\u00e9bito\",\n          \"Tarjeta de cr\\u00e9dito\"\n        ],\n        \"semantic_type\": \"\",\n        \"description\": \"\"\n      }\n    },\n    {\n      \"column\": \"Cantidad de cuotas\",\n      \"properties\": {\n        \"dtype\": \"number\",\n        \"std\": 2,\n        \"min\": 1,\n        \"max\": 24,\n        \"num_unique_values\": 15,\n        \"samples\": [\n          7,\n          14,\n          8\n        ],\n        \"semantic_type\": \"\",\n        \"description\": \"\"\n      }\n    },\n    {\n      \"column\": \"lat\",\n      \"properties\": {\n        \"dtype\": \"number\",\n        \"std\": 2.2874452492678627,\n        \"min\": -4.21528,\n        \"max\": 11.54444,\n        \"num_unique_values\": 19,\n        \"samples\": [\n          4.60971,\n          4.81333,\n          2.9273\n        ],\n        \"semantic_type\": \"\",\n        \"description\": \"\"\n      }\n    },\n    {\n      \"column\": \"lon\",\n      \"properties\": {\n        \"dtype\": \"number\",\n        \"std\": 1.2178272727088486,\n        \"min\": -77.28111,\n        \"max\": -67.9239,\n        \"num_unique_values\": 19,\n        \"samples\": [\n          -74.08175,\n          -75.69611,\n          -75.28189\n        ],\n        \"semantic_type\": \"\",\n        \"description\": \"\"\n      }\n    }\n  ]\n}"
            }
          },
          "metadata": {},
          "execution_count": 4
        }
      ],
      "source": [
        "import pandas as pd\n",
        "\n",
        "url = \"https://raw.githubusercontent.com/alura-es-cursos/challenge1-data-science-latam/refs/heads/main/base-de-datos-challenge1-latam/tienda_1%20.csv\"\n",
        "url2 = \"https://raw.githubusercontent.com/alura-es-cursos/challenge1-data-science-latam/refs/heads/main/base-de-datos-challenge1-latam/tienda_2.csv\"\n",
        "url3 = \"https://raw.githubusercontent.com/alura-es-cursos/challenge1-data-science-latam/refs/heads/main/base-de-datos-challenge1-latam/tienda_3.csv\"\n",
        "url4 = \"https://raw.githubusercontent.com/alura-es-cursos/challenge1-data-science-latam/refs/heads/main/base-de-datos-challenge1-latam/tienda_4.csv\"\n",
        "\n",
        "tienda = pd.read_csv(url)\n",
        "tienda2 = pd.read_csv(url2)\n",
        "tienda3 = pd.read_csv(url3)\n",
        "tienda4 = pd.read_csv(url4)\n",
        "\n",
        "tienda.head()\n"
      ]
    },
    {
      "cell_type": "markdown",
      "source": [],
      "metadata": {
        "id": "UlKfuOntfZtP"
      }
    },
    {
      "cell_type": "markdown",
      "source": [
        "#1. Análisis de facturación\n",
        "\n"
      ],
      "metadata": {
        "id": "X62IW3KFUIYm"
      }
    },
    {
      "cell_type": "code",
      "source": [
        "import matplotlib.pyplot as plt\n",
        "\n",
        "\n",
        "precios_tienda1 = list(tienda['Precio'])\n",
        "precios_tienda2 = list(tienda2['Precio'])\n",
        "precios_tienda3 = list(tienda3['Precio'])\n",
        "precios_tienda4 = list(tienda4['Precio'])\n",
        "\n",
        "def facturacion(lista) -> float:\n",
        "  fact=0\n",
        "  for i in range(len(lista)):\n",
        "    fact+=lista[i]\n",
        "  return fact/1000000\n",
        "\n",
        "facturacion_tienda1 = facturacion(precios_tienda1)\n",
        "facturacion_tienda2 = facturacion(precios_tienda2)\n",
        "facturacion_tienda3 = facturacion(precios_tienda3)\n",
        "facturacion_tienda4 = facturacion(precios_tienda4)\n",
        "\n",
        "facturacion_tiendas = {'Tienda1':facturacion_tienda1, 'Tienda2':facturacion_tienda2,'Tienda3':facturacion_tienda3,'Tienda4':facturacion_tienda4}\n",
        "print('Los ingresos de cada tienda son los siguientes:\\n')\n",
        "for t, f in facturacion_tiendas.items():\n",
        "  print(t,': $ ',\"{:.2f}\".format(f),' millones')\n",
        "print('\\n')\n",
        "\n",
        "facturacion_total = facturacion_tienda1+facturacion_tienda2+facturacion_tienda3+facturacion_tienda4\n",
        "\n",
        "\n",
        "print('\\n')\n",
        "print('Grafico N°1')\n",
        "plt.bar(facturacion_tiendas.keys(),facturacion_tiendas.values(),color=['tab:purple', 'tab:blue', 'tab:orange', 'tab:red'])\n",
        "plt.xlabel('Tienda')\n",
        "plt.ylabel('Millones de pesos')\n",
        "plt.title('Facturación por tienda')"
      ],
      "metadata": {
        "id": "xykobSftV64I",
        "colab": {
          "base_uri": "https://localhost:8080/",
          "height": 680
        },
        "outputId": "646ba516-7f9d-42be-a1ae-91de422481b4"
      },
      "execution_count": 27,
      "outputs": [
        {
          "output_type": "stream",
          "name": "stdout",
          "text": [
            "Los ingresos de cada tienda son los siguientes:\n",
            "\n",
            "Tienda1 : $  1150.88  millones\n",
            "Tienda2 : $  1116.34  millones\n",
            "Tienda3 : $  1098.02  millones\n",
            "Tienda4 : $  1038.38  millones\n",
            "\n",
            "\n",
            "\n",
            "\n",
            "Grafico N°1\n"
          ]
        },
        {
          "output_type": "execute_result",
          "data": {
            "text/plain": [
              "Text(0.5, 1.0, 'Facturación por tienda')"
            ]
          },
          "metadata": {},
          "execution_count": 27
        },
        {
          "output_type": "display_data",
          "data": {
            "text/plain": [
              "<Figure size 640x480 with 1 Axes>"
            ],
            "image/png": "[encoded data removed]"
          },
          "metadata": {}
        }
      ]
    },
    {
      "cell_type": "code",
      "source": [
        "print('Gráfico N°2')\n",
        "plt.pie(facturacion_tiendas.values(),labels = facturacion_tiendas.keys(),autopct='%1.1f%%')\n",
        "plt.title('Porcentaje de facturación por tienda')"
      ],
      "metadata": {
        "colab": {
          "base_uri": "https://localhost:8080/",
          "height": 464
        },
        "id": "DZ_A5n7VtU8N",
        "outputId": "2ce6716b-a9ab-46d8-a5f4-1f428ab23d24"
      },
      "execution_count": 28,
      "outputs": [
        {
          "output_type": "stream",
          "name": "stdout",
          "text": [
            "Gráfico N°2\n"
          ]
        },
        {
          "output_type": "execute_result",
          "data": {
            "text/plain": [
              "Text(0.5, 1.0, 'Porcentaje de facturación por tienda')"
            ]
          },
          "metadata": {},
          "execution_count": 28
        },
        {
          "output_type": "display_data",
          "data": {
            "text/plain": [
              "<Figure size 640x480 with 1 Axes>"
            ],
            "image/png": "[encoded data removed]"
          },
          "metadata": {}
        }
      ]
    },
    {
      "cell_type": "code",
      "source": [
        "facturacion_total = facturacion_tienda1+facturacion_tienda2+facturacion_tienda3+facturacion_tienda4\n",
        "promedio_facturacion = facturacion_total/4\n",
        "facturacion_por_tienda_respecto_media = {'Tienda1':100*(facturacion_tienda1-promedio_facturacion)/promedio_facturacion,'Tienda2':100*(facturacion_tienda2-promedio_facturacion)/promedio_facturacion,'Tienda3':100*(facturacion_tienda3-promedio_facturacion)/promedio_facturacion,'Tienda4':100*(facturacion_tienda4-promedio_facturacion)/promedio_facturacion}\n",
        "print('El porcentaje de ingresos de cada tienda respecto a la media es:')\n",
        "for t, f in facturacion_por_tienda_respecto_media.items():\n",
        "  print(t,': $ ',\"{:.2f}\".format(f),'%')\n",
        "print('\\n')\n",
        "\n",
        "print('Gráfico N°3')\n",
        "plt.bar(facturacion_por_tienda_respecto_media.keys(),facturacion_por_tienda_respecto_media.values(),color=['tab:purple', 'tab:blue', 'tab:orange', 'tab:red'])\n",
        "plt.xlabel('Tienda')\n",
        "plt.ylabel('Porcentaje (%)')\n",
        "plt.title('Variación de facturación respecto a la media')\n"
      ],
      "metadata": {
        "colab": {
          "base_uri": "https://localhost:8080/",
          "height": 628
        },
        "id": "3l7uwPf_vOC7",
        "outputId": "ac12d0d4-0b3f-4bd0-9a1a-c84f17f9038b"
      },
      "execution_count": 36,
      "outputs": [
        {
          "output_type": "stream",
          "name": "stdout",
          "text": [
            "El porcentaje de ingresos de cada tienda respecto a la media es:\n",
            "Tienda1 : $  4.54 %\n",
            "Tienda2 : $  1.40 %\n",
            "Tienda3 : $  -0.26 %\n",
            "Tienda4 : $  -5.68 %\n",
            "\n",
            "\n",
            "Gráfico N°3\n"
          ]
        },
        {
          "output_type": "execute_result",
          "data": {
            "text/plain": [
              "Text(0.5, 1.0, 'Variación de facturación respecto a la media')"
            ]
          },
          "metadata": {},
          "execution_count": 36
        },
        {
          "output_type": "display_data",
          "data": {
            "text/plain": [
              "<Figure size 640x480 with 1 Axes>"
            ],
            "image/png": "[encoded data removed]"
          },
          "metadata": {}
        }
      ]
    },
    {
      "cell_type": "markdown",
      "source": [
        "# 2. Ventas por categoría"
      ],
      "metadata": {
        "id": "2V_vcAPzWZmR"
      }
    },
    {
      "cell_type": "code",
      "source": [
        "\n",
        "categoria_tienda1 = list(tienda['Categoría del Producto'])\n",
        "categoria_tienda2 = list(tienda2['Categoría del Producto'])\n",
        "categoria_tienda3 = list(tienda3['Categoría del Producto'])\n",
        "categoria_tienda4 = list(tienda4['Categoría del Producto'])\n",
        "\n",
        "def items_vendidos_por_categoria(lista):\n",
        "  items_por_categoria = []\n",
        "  for i in range(len(lista)):\n",
        "    if i==0:\n",
        "      items_por_categoria.append({'Categoria':lista[i],'Items':1})\n",
        "    else:\n",
        "      found = False\n",
        "      for j in range(len(items_por_categoria)):\n",
        "        if lista[i]==items_por_categoria[j]['Categoria']:\n",
        "          items_por_categoria[j]['Items']+=1\n",
        "          found = True\n",
        "          break\n",
        "      if not found:\n",
        "        items_por_categoria.append({'Categoria':lista[i],'Items':1})\n",
        "  return items_por_categoria\n",
        "\n",
        "def orden(e):\n",
        "  return e['Items']\n",
        "\n",
        "#def masVendidos(lista):\n",
        "#  lista1 = lista\n",
        "#  numeroItems = len(lista1)\n",
        "#  while numeroItems > 5:\n",
        "#    lista1.pop()\n",
        "#    numeroItems = len(lista1)\n",
        "#  return lista1\n",
        "\n",
        "\n",
        "items_por_categoria_tienda1 = items_vendidos_por_categoria(categoria_tienda1)\n",
        "items_por_categoria_tienda1.sort(reverse=True, key=orden)\n",
        "#ict=masVendidos(items_por_categoria_tienda)\n",
        "items_por_categoria_tienda2 = items_vendidos_por_categoria(categoria_tienda2)\n",
        "items_por_categoria_tienda2.sort(reverse=True, key=orden)\n",
        "#ict2=masVendidos(items_por_categoria_tienda2)\n",
        "items_por_categoria_tienda3 = items_vendidos_por_categoria(categoria_tienda3)\n",
        "items_por_categoria_tienda3.sort(reverse=True, key=orden)\n",
        "#ict3=masVendidos(items_por_categoria_tienda3)\n",
        "items_por_categoria_tienda4 = items_vendidos_por_categoria(categoria_tienda4)\n",
        "items_por_categoria_tienda4.sort(reverse=True, key=orden)\n",
        "#ict4=masVendidos(items_por_categoria_tienda4)\n",
        "\n",
        "\n",
        "items_vendidos_por_categoria_por_tienda = {'Tienda1':items_por_categoria_tienda1,'Tienda2':items_por_categoria_tienda2,'Tienda3':items_por_categoria_tienda3,'Tienda4':items_por_categoria_tienda4}\n",
        "print('Las categorias mas vendidos por cada tienda son los siguientes:\\n')\n",
        "for t, it in items_vendidos_por_categoria_por_tienda.items():\n",
        "  print(t)\n",
        "  for x in range(5):\n",
        "    print(it[x]['Categoria'],':',it[x]['Items'])\n",
        "  print('\\n')\n",
        "  #plt.hist(categoria_tienda1)"
      ],
      "metadata": {
        "id": "A34YupIuYhfF",
        "colab": {
          "base_uri": "https://localhost:8080/"
        },
        "outputId": "bb19b953-28f8-469a-8764-fe65a43fa4dd"
      },
      "execution_count": 26,
      "outputs": [
        {
          "output_type": "stream",
          "name": "stdout",
          "text": [
            "Las categorias mas vendidos por cada tienda son los siguientes:\n",
            "\n",
            "Tienda1\n",
            "Muebles : 465\n",
            "Electrónicos : 448\n",
            "Juguetes : 324\n",
            "Electrodomésticos : 312\n",
            "Deportes y diversión : 284\n",
            "\n",
            "\n",
            "Tienda2\n",
            "Muebles : 442\n",
            "Electrónicos : 422\n",
            "Juguetes : 313\n",
            "Electrodomésticos : 305\n",
            "Deportes y diversión : 275\n",
            "\n",
            "\n",
            "Tienda3\n",
            "Muebles : 499\n",
            "Electrónicos : 451\n",
            "Juguetes : 315\n",
            "Electrodomésticos : 278\n",
            "Deportes y diversión : 277\n",
            "\n",
            "\n",
            "Tienda4\n",
            "Muebles : 480\n",
            "Electrónicos : 451\n",
            "Juguetes : 338\n",
            "Deportes y diversión : 277\n",
            "Electrodomésticos : 254\n",
            "\n",
            "\n"
          ]
        }
      ]
    },
    {
      "cell_type": "markdown",
      "source": [
        "# 3. Calificación promedio de la tienda\n"
      ],
      "metadata": {
        "id": "Rq6tU_xSY3jk"
      }
    },
    {
      "cell_type": "code",
      "source": [
        "calificaciones_tienda1 = list(tienda['Calificación'])\n",
        "calificaciones_tienda2 = list(tienda2['Calificación'])\n",
        "calificaciones_tienda3 = list(tienda3['Calificación'])\n",
        "calificaciones_tienda4 = list(tienda4['Calificación'])\n",
        "\n",
        "def promedio_calificaciones(lista):\n",
        "  promedio=0\n",
        "  for i in range(len(lista)):\n",
        "    promedio+=lista[i]\n",
        "  return promedio/len(lista)\n",
        "\n",
        "promedio_calificaciones_tienda1 = promedio_calificaciones(calificaciones_tienda1)\n",
        "promedio_calificaciones_tienda2 = promedio_calificaciones(calificaciones_tienda2)\n",
        "promedio_calificaciones_tienda3 = promedio_calificaciones(calificaciones_tienda3)\n",
        "promedio_calificaciones_tienda4 = promedio_calificaciones(calificaciones_tienda4)\n",
        "\n",
        "promedio_calificaciones_por_tienda = {'Tienda1':promedio_calificaciones_tienda1,'Tienda2':promedio_calificaciones_tienda2,'Tienda3':promedio_calificaciones_tienda3,'Tienda4':promedio_calificaciones_tienda4}\n",
        "print('Media de calificaciones de cada tienda:')\n",
        "print('Tienda1: ',\"{:.2f}\".format(promedio_calificaciones_tienda1))\n",
        "print('Tienda2: ',\"{:.2f}\".format(promedio_calificaciones_tienda2))\n",
        "print('Tienda3: ',\"{:.2f}\".format(promedio_calificaciones_tienda3))\n",
        "print('Tienda4: ',\"{:.2f}\".format(promedio_calificaciones_tienda4))"
      ],
      "metadata": {
        "id": "bh3jjjJwY5MU",
        "colab": {
          "base_uri": "https://localhost:8080/"
        },
        "outputId": "7c95c1ce-639b-4fbd-c11d-87cc9f8470fd"
      },
      "execution_count": 10,
      "outputs": [
        {
          "output_type": "stream",
          "name": "stdout",
          "text": [
            "Media de calificaciones de cada tienda:\n",
            "Tienda1:  3.98\n",
            "Tienda2:  4.04\n",
            "Tienda3:  4.05\n",
            "Tienda4:  4.00\n"
          ]
        }
      ]
    },
    {
      "cell_type": "code",
      "source": [
        "print('Gráfico N°4')\n",
        "plt.bar(promedio_calificaciones_por_tienda.keys(),promedio_calificaciones_por_tienda.values(),color=['tab:purple', 'tab:blue', 'tab:orange', 'tab:red'])\n",
        "plt.xlabel('Tienda')\n",
        "plt.ylabel('Calificación')\n",
        "plt.title('Caliificación promedio por tienda')"
      ],
      "metadata": {
        "id": "I0KkjPoTY88F",
        "colab": {
          "base_uri": "https://localhost:8080/",
          "height": 507
        },
        "outputId": "ca3b9bef-9978-4d6c-e211-f4bbe2b0b47c"
      },
      "execution_count": 31,
      "outputs": [
        {
          "output_type": "stream",
          "name": "stdout",
          "text": [
            "Gráfico N°4\n"
          ]
        },
        {
          "output_type": "execute_result",
          "data": {
            "text/plain": [
              "Text(0.5, 1.0, 'Caliificación promedio por tienda')"
            ]
          },
          "metadata": {},
          "execution_count": 31
        },
        {
          "output_type": "display_data",
          "data": {
            "text/plain": [
              "<Figure size 640x480 with 1 Axes>"
            ],
            "image/png": "[encoded data removed]"
          },
          "metadata": {}
        }
      ]
    },
    {
      "cell_type": "code",
      "source": [
        "def calificaciones_por_tipo(lista):\n",
        "  cpt=[0,0,0,0,0]\n",
        "  for i in range(len(lista)):\n",
        "    if lista[i]==1:\n",
        "      cpt[0]+=1\n",
        "    elif lista[i]==2:\n",
        "      cpt[1]+=1\n",
        "    elif lista[i]==3:\n",
        "      cpt[2]+=1\n",
        "    elif lista[i]==4:\n",
        "      cpt[3]+=1\n",
        "    else:\n",
        "      cpt[4]+=1\n",
        "  return cpt\n",
        "\n",
        "calificaciones_por_tipo_tienda1 = calificaciones_por_tipo(calificaciones_tienda1);\n",
        "calificaciones_por_tipo_tienda2 = calificaciones_por_tipo(calificaciones_tienda2);\n",
        "calificaciones_por_tipo_tienda3 = calificaciones_por_tipo(calificaciones_tienda3);\n",
        "calificaciones_por_tipo_tienda4 = calificaciones_por_tipo(calificaciones_tienda4);\n",
        "\n",
        "print('Calificaciones por tipo por tienda:')\n",
        "print('Tienda 1:')\n",
        "for j in range(len(calificaciones_por_tipo_tienda1)):\n",
        "  print(j+1,' estrellas: ', calificaciones_por_tipo_tienda1[j])\n",
        "print('\\nTienda2:')\n",
        "for j in range(len(calificaciones_por_tipo_tienda2)):\n",
        "  print(j+1,' estrellas: ', calificaciones_por_tipo_tienda2[j])\n",
        "print('\\nTienda3:')\n",
        "for j in range(len(calificaciones_por_tipo_tienda3)):\n",
        "  print(j+1,' estrellas: ', calificaciones_por_tipo_tienda3[j])\n",
        "print('\\nTienda4:')\n",
        "for j in range(len(calificaciones_por_tipo_tienda4)):\n",
        "  print(j+1,' estrellas: ', calificaciones_por_tipo_tienda4[j])\n",
        "\n",
        "print('\\nGráfico N°5')\n",
        "plt.scatter([1,2,3,4,5],calificaciones_por_tipo_tienda1,c='tab:purple',s=5)\n",
        "\n",
        "plt.xlabel('Calificación')\n",
        "plt.ylabel('Cantidad de calificaciones')\n",
        "plt.title('Calificación por tipo')\n",
        "\n",
        "plt.scatter([1,2,3,4,5],calificaciones_por_tipo_tienda2,c='tab:blue',s=5)\n",
        "\n",
        "plt.scatter([1,2,3,4,5],calificaciones_por_tipo_tienda3,c='tab:orange',s=5)\n",
        "\n",
        "plt.scatter([1,2,3,4,5],calificaciones_por_tipo_tienda4,c='tab:red',s=5)\n",
        "\n",
        "plt.legend(['Tienda 1','Tienda 2','Tienda 3','Tienda 4'])"
      ],
      "metadata": {
        "colab": {
          "base_uri": "https://localhost:8080/",
          "height": 1000
        },
        "id": "ldd7WZX8GJxh",
        "outputId": "330cf184-00df-4a36-8666-98caa960748f"
      },
      "execution_count": 32,
      "outputs": [
        {
          "output_type": "stream",
          "name": "stdout",
          "text": [
            "Calificaciones por tipo por tienda:\n",
            "Tienda 1:\n",
            "1  estrellas:  319\n",
            "2  estrellas:  86\n",
            "3  estrellas:  218\n",
            "4  estrellas:  444\n",
            "5  estrellas:  1292\n",
            "\n",
            "Tienda2:\n",
            "1  estrellas:  273\n",
            "2  estrellas:  93\n",
            "3  estrellas:  209\n",
            "4  estrellas:  482\n",
            "5  estrellas:  1302\n",
            "\n",
            "Tienda3:\n",
            "1  estrellas:  297\n",
            "2  estrellas:  79\n",
            "3  estrellas:  193\n",
            "4  estrellas:  434\n",
            "5  estrellas:  1356\n",
            "\n",
            "Tienda4:\n",
            "1  estrellas:  310\n",
            "2  estrellas:  85\n",
            "3  estrellas:  210\n",
            "4  estrellas:  453\n",
            "5  estrellas:  1300\n",
            "\n",
            "Gráfico N°5\n"
          ]
        },
        {
          "output_type": "execute_result",
          "data": {
            "text/plain": [
              "<matplotlib.legend.Legend at 0x78c7d0ab5010>"
            ]
          },
          "metadata": {},
          "execution_count": 32
        },
        {
          "output_type": "display_data",
          "data": {
            "text/plain": [
              "<Figure size 640x480 with 1 Axes>"
            ],
            "image/png": "[encoded data removed]"
          },
          "metadata": {}
        }
      ]
    },
    {
      "cell_type": "code",
      "source": [
        "#Agrupación de calificaciones (positivas, neutrales y negativas)\n",
        "\n",
        "def agrupa_calificaciones(lista):\n",
        "  agrupa={'Negativas':0,'Neutrales':0,'Positivas':0}\n",
        "  for i in range(len(lista)):\n",
        "    if i<2:\n",
        "      agrupa['Negativas']+=lista[i]\n",
        "    elif i==2:\n",
        "      agrupa['Neutrales']+=lista[i]\n",
        "    else:\n",
        "      agrupa['Positivas']+=lista[i]\n",
        "  return agrupa\n",
        "\n",
        "\n",
        "calificaciones_agrupadas_tienda1 = agrupa_calificaciones(calificaciones_por_tipo_tienda1)\n",
        "calificaciones_agrupadas_tienda2 = agrupa_calificaciones(calificaciones_por_tipo_tienda2)\n",
        "calificaciones_agrupadas_tienda3 = agrupa_calificaciones(calificaciones_por_tipo_tienda3)\n",
        "calificaciones_agrupadas_tienda4 = agrupa_calificaciones(calificaciones_por_tipo_tienda4)\n",
        "\n",
        "print('Tipo de calificaciones de cada tienda:')\n",
        "print('Tienda 1:')\n",
        "for key, value in calificaciones_agrupadas_tienda1.items():\n",
        "  print(key,': ',value, 'calificaciones')\n",
        "print('\\nTienda2:')\n",
        "for key, value in calificaciones_agrupadas_tienda2.items():\n",
        "  print(key,': ',value, 'calificaciones')\n",
        "print('\\nTienda3:')\n",
        "for key, value in calificaciones_agrupadas_tienda3.items():\n",
        "  print(key,': ',value, 'calificaciones')\n",
        "print('\\nTienda4:')\n",
        "for key, value in calificaciones_agrupadas_tienda4.items():\n",
        "  print(key,': ',value, 'calificaciones')\n",
        "\n",
        "\n",
        "print('\\nGráfico N°6')\n",
        "plt.scatter(calificaciones_agrupadas_tienda1.keys(),calificaciones_agrupadas_tienda1.values(),c='tab:purple',s=5)\n",
        "\n",
        "plt.xlabel('Calificación')\n",
        "plt.ylabel('Cantidad de calificaciones')\n",
        "plt.title('Calificación por tipo')\n",
        "\n",
        "plt.scatter(calificaciones_agrupadas_tienda2.keys(),calificaciones_agrupadas_tienda2.values(),c='tab:blue',s=5)\n",
        "\n",
        "plt.scatter(calificaciones_agrupadas_tienda3.keys(),calificaciones_agrupadas_tienda3.values(),c='tab:orange',s=5)\n",
        "\n",
        "plt.scatter(calificaciones_agrupadas_tienda4.keys(),calificaciones_agrupadas_tienda4.values(),c='tab:red',s=5)\n",
        "\n",
        "plt.legend(['Tienda 1','Tienda 2','Tienda 3','Tienda 4'])"
      ],
      "metadata": {
        "colab": {
          "base_uri": "https://localhost:8080/",
          "height": 871
        },
        "id": "5QniZiJ-Ot5Q",
        "outputId": "827616f3-61a6-46b1-8037-41d7d9d22b9a"
      },
      "execution_count": 33,
      "outputs": [
        {
          "output_type": "stream",
          "name": "stdout",
          "text": [
            "Tipo de calificaciones de cada tienda:\n",
            "Tienda 1:\n",
            "Negativas :  405 calificaciones\n",
            "Neutrales :  218 calificaciones\n",
            "Positivas :  1736 calificaciones\n",
            "\n",
            "Tienda2:\n",
            "Negativas :  366 calificaciones\n",
            "Neutrales :  209 calificaciones\n",
            "Positivas :  1784 calificaciones\n",
            "\n",
            "Tienda3:\n",
            "Negativas :  376 calificaciones\n",
            "Neutrales :  193 calificaciones\n",
            "Positivas :  1790 calificaciones\n",
            "\n",
            "Tienda4:\n",
            "Negativas :  395 calificaciones\n",
            "Neutrales :  210 calificaciones\n",
            "Positivas :  1753 calificaciones\n",
            "\n",
            "Gráfico N°6\n"
          ]
        },
        {
          "output_type": "execute_result",
          "data": {
            "text/plain": [
              "<matplotlib.legend.Legend at 0x78c7d091ded0>"
            ]
          },
          "metadata": {},
          "execution_count": 33
        },
        {
          "output_type": "display_data",
          "data": {
            "text/plain": [
              "<Figure size 640x480 with 1 Axes>"
            ],
            "image/png": "[encoded data removed]"
          },
          "metadata": {}
        }
      ]
    },
    {
      "cell_type": "markdown",
      "source": [
        "# 4. Productos más y menos vendidos"
      ],
      "metadata": {
        "id": "DmNp1KPBZCm-"
      }
    },
    {
      "cell_type": "code",
      "source": [
        "def productosmasvendidos(lista):\n",
        "  return lista[0:5]\n",
        "\n",
        "def productosmenosvendidos(lista):\n",
        "  return lista[len(lista)-5:len(lista)]\n",
        "\n",
        "def items_vendidos_por_producto(lista):\n",
        "  productos=[]\n",
        "  for k in range(len(lista)):\n",
        "    if k==0:\n",
        "      productos.append({'Producto':lista[k],'Cantidad':1})\n",
        "    else:\n",
        "      found = False\n",
        "      for j in range(len(productos)):\n",
        "        if productos[j]['Producto'] == lista[k]:\n",
        "          productos[j]['Cantidad']+=1\n",
        "          found=True\n",
        "          break\n",
        "      if not found:\n",
        "        productos.append({'Producto':lista[k],'Cantidad':1})\n",
        "  return productos\n",
        "\n",
        "def orden2(e):\n",
        "  return e['Cantidad']\n",
        "\n",
        "\n",
        "productos_tienda1 = list(tienda['Producto'])\n",
        "productos_tienda2 = list(tienda2['Producto'])\n",
        "productos_tienda3 = list(tienda3['Producto'])\n",
        "productos_tienda4 = list(tienda4['Producto'])\n",
        "\n",
        "items_vendidos_por_producto_tienda1 = items_vendidos_por_producto(productos_tienda1)\n",
        "items_vendidos_por_producto_tienda1.sort(reverse=True, key=orden2)\n",
        "items_vendidos_por_producto_tienda2 = items_vendidos_por_producto(productos_tienda2)\n",
        "items_vendidos_por_producto_tienda2.sort(reverse=True, key=orden2)\n",
        "items_vendidos_por_producto_tienda3 = items_vendidos_por_producto(productos_tienda3)\n",
        "items_vendidos_por_producto_tienda3.sort(reverse=True, key=orden2)\n",
        "items_vendidos_por_producto_tienda4 = items_vendidos_por_producto(productos_tienda4)\n",
        "items_vendidos_por_producto_tienda4.sort(reverse=True, key=orden2)\n",
        "\n",
        "productos_mas_vendidos_por_tienda = {'Tienda1':productosmasvendidos(items_vendidos_por_producto_tienda1),'Tienda2':productosmasvendidos(items_vendidos_por_producto_tienda2),'Tienda3':productosmasvendidos(items_vendidos_por_producto_tienda3),'Tienda4':productosmasvendidos(items_vendidos_por_producto_tienda4)}\n",
        "\n",
        "print('Las productoss mas vendidos por cada tienda son los siguientes:')\n",
        "for t, it in productos_mas_vendidos_por_tienda.items():\n",
        "  print(t)\n",
        "  for x in range(len(it)):\n",
        "    print(it[x]['Producto'],':',it[x]['Cantidad'])\n",
        "  print('\\n')\n",
        "\n",
        "productos_menos_vendidos_por_tienda = {'Tienda1':productosmenosvendidos(items_vendidos_por_producto_tienda1),'Tienda2':productosmenosvendidos(items_vendidos_por_producto_tienda2),'Tienda3':productosmenosvendidos(items_vendidos_por_producto_tienda3),'Tienda4':productosmenosvendidos(items_vendidos_por_producto_tienda4)}\n",
        "\n",
        "print('Las productoss menos vendidos por cada tienda son los siguientes:')\n",
        "for t, it in productos_menos_vendidos_por_tienda.items():\n",
        "  print(t)\n",
        "  for x in range(len(it)):\n",
        "    print(it[x]['Producto'],':',it[x]['Cantidad'])\n",
        "  print('\\n')\n"
      ],
      "metadata": {
        "id": "qoyjqijQZHfF",
        "colab": {
          "base_uri": "https://localhost:8080/"
        },
        "outputId": "3b9bb2fd-ce25-4f0c-ac09-87d75dbdf44c"
      },
      "execution_count": 11,
      "outputs": [
        {
          "output_type": "stream",
          "name": "stdout",
          "text": [
            "Las productoss mas vendidos por cada tienda son los siguientes:\n",
            "Tienda1\n",
            "Microondas : 60\n",
            "TV LED UHD 4K : 60\n",
            "Armario : 60\n",
            "Secadora de ropa : 58\n",
            "Bloques de construcción : 56\n",
            "\n",
            "\n",
            "Tienda2\n",
            "Iniciando en programación : 65\n",
            "Microondas : 62\n",
            "Batería : 61\n",
            "Pandereta : 58\n",
            "Guitarra acústica : 58\n",
            "\n",
            "\n",
            "Tienda3\n",
            "Kit de bancas : 57\n",
            "Mesa de comedor : 56\n",
            "Cama king : 56\n",
            "Mesa de noche : 55\n",
            "Set de ollas : 55\n",
            "\n",
            "\n",
            "Tienda4\n",
            "Cama box : 62\n",
            "Cubertería : 59\n",
            "Dashboards con Power BI : 56\n",
            "Cama king : 56\n",
            "Mesa de noche : 55\n",
            "\n",
            "\n",
            "Las productoss menos vendidos por cada tienda son los siguientes:\n",
            "Tienda1\n",
            "Mochila : 39\n",
            "Pandereta : 36\n",
            "Olla de presión : 35\n",
            "Auriculares con micrófono : 33\n",
            "Celular ABXY : 33\n",
            "\n",
            "\n",
            "Tienda2\n",
            "Auriculares : 37\n",
            "Sillón : 35\n",
            "Mesa de comedor : 34\n",
            "Impresora : 34\n",
            "Juego de mesa : 32\n",
            "\n",
            "\n",
            "Tienda3\n",
            "Vaso térmico : 38\n",
            "Set de vasos : 36\n",
            "Mochila : 36\n",
            "Microondas : 36\n",
            "Bloques de construcción : 35\n",
            "\n",
            "\n",
            "Tienda4\n",
            "Lavadora de ropa : 38\n",
            "Ciencia de datos con Python : 38\n",
            "Guitarra acústica : 37\n",
            "Armario : 34\n",
            "Guitarra eléctrica : 33\n",
            "\n",
            "\n"
          ]
        }
      ]
    },
    {
      "cell_type": "markdown",
      "source": [
        "# 5. Envío promedio por tienda"
      ],
      "metadata": {
        "id": "Fl0cGi3bZKqU"
      }
    },
    {
      "cell_type": "code",
      "source": [
        "envios_tienda1 = list(tienda['Costo de envío'])\n",
        "envios_tienda2 = list(tienda2['Costo de envío'])\n",
        "envios_tienda3 = list(tienda3['Costo de envío'])\n",
        "envios_tienda4 = list(tienda4['Costo de envío'])\n",
        "\n",
        "def promedio_envio(lista):\n",
        "  promedio=0\n",
        "  for j in range(len(lista)):\n",
        "    promedio+=lista[j]\n",
        "  return promedio/len(lista)\n",
        "\n",
        "total_envios_por_tienda = {'Tienda1':tienda['Costo de envío'].sum()/1000000,'Tienda2':tienda2['Costo de envío'].sum()/1000000,'Tienda3':tienda3['Costo de envío'].sum()/1000000,'Tienda4':tienda4['Costo de envío'].sum()/1000000}\n",
        "\n",
        "\n",
        "costo_envio_por_tienda = {'Tienda1':promedio_envio(envios_tienda1),'Tienda2':promedio_envio(envios_tienda2),'Tienda3':promedio_envio(envios_tienda3),'Tienda4':promedio_envio(envios_tienda4)}\n",
        "print('Costo promedio de envío por tienda:')\n",
        "for key, value in costo_envio_por_tienda.items():\n",
        "  print(key,': $ ',\"{:.2f}\".format(value))\n",
        "\n",
        "print('\\nGráfico N°7')\n",
        "plt.bar(costo_envio_por_tienda.keys(),costo_envio_por_tienda.values(), color=['tab:purple', 'tab:blue', 'tab:orange', 'tab:red'])\n",
        "plt.xlabel('Tienda')\n",
        "plt.ylabel('Pesos ($)')\n",
        "plt.title('Costo promedio de los envíos por tienda')\n",
        "\n"
      ],
      "metadata": {
        "id": "S2JeaCykZNy9",
        "colab": {
          "base_uri": "https://localhost:8080/",
          "height": 611
        },
        "outputId": "50703cf9-d636-4124-ca0c-fb6f12f35e45"
      },
      "execution_count": 34,
      "outputs": [
        {
          "output_type": "stream",
          "name": "stdout",
          "text": [
            "Costo promedio de envío por tienda:\n",
            "Tienda1 : $  26018.61\n",
            "Tienda2 : $  25216.24\n",
            "Tienda3 : $  24805.68\n",
            "Tienda4 : $  23459.46\n",
            "\n",
            "Gráfico N°7\n"
          ]
        },
        {
          "output_type": "execute_result",
          "data": {
            "text/plain": [
              "Text(0.5, 1.0, 'Costo promedio de los envíos por tienda')"
            ]
          },
          "metadata": {},
          "execution_count": 34
        },
        {
          "output_type": "display_data",
          "data": {
            "text/plain": [
              "<Figure size 640x480 with 1 Axes>"
            ],
            "image/png": "[encoded data removed]"
          },
          "metadata": {}
        }
      ]
    },
    {
      "cell_type": "code",
      "source": [
        "#Peso de los envíos en la facturación de cada tienda (total envíos/facturacion)\n",
        "peso_envios_por_tienda = {'Tienda1':100*total_envios_por_tienda['Tienda1']/facturacion_tienda1 ,'Tienda2':100*total_envios_por_tienda['Tienda2']/facturacion_tienda2,'Tienda3':100*total_envios_por_tienda['Tienda3']/facturacion_tienda3,'Tienda4':100*total_envios_por_tienda['Tienda4']/facturacion_tienda4}\n",
        "\n",
        "print('Peso del costo del envío en cada tienda:')\n",
        "for key, value in peso_envios_por_tienda.items():\n",
        "  print(key,': $ ',\"{:.2f}\".format(value),'%')\n",
        "\n",
        "print('\\nGráfico N°8')\n",
        "plt.bar(peso_envios_por_tienda.keys(),peso_envios_por_tienda.values(),color=['tab:purple', 'tab:blue', 'tab:orange', 'tab:red'])\n",
        "plt.xlabel('Tienda')\n",
        "plt.ylabel('Porcentaje (%)')\n",
        "plt.title('Peso del costo del envío en cada tienda')"
      ],
      "metadata": {
        "id": "0tSdCie9ZQlt",
        "colab": {
          "base_uri": "https://localhost:8080/",
          "height": 611
        },
        "outputId": "b515ce54-ef71-41b0-fb3f-5787f541bfa5"
      },
      "execution_count": 35,
      "outputs": [
        {
          "output_type": "stream",
          "name": "stdout",
          "text": [
            "Peso del costo del envío en cada tienda:\n",
            "Tienda1 : $  5.33 %\n",
            "Tienda2 : $  5.33 %\n",
            "Tienda3 : $  5.33 %\n",
            "Tienda4 : $  5.33 %\n",
            "\n",
            "Gráfico N°8\n"
          ]
        },
        {
          "output_type": "execute_result",
          "data": {
            "text/plain": [
              "Text(0.5, 1.0, 'Peso del costo del envío en cada tienda')"
            ]
          },
          "metadata": {},
          "execution_count": 35
        },
        {
          "output_type": "display_data",
          "data": {
            "text/plain": [
              "<Figure size 640x480 with 1 Axes>"
            ],
            "image/png": "[encoded data removed]"
          },
          "metadata": {}
        }
      ]
    },
    {
      "cell_type": "markdown",
      "source": [
        "Se ha realizado un estudio de las ventas de las 4 tiendas del Sr.Juan para determinar cual de ellas es la menos eficiente. Se han tomado en cuenta los siguientes aspectos:\n",
        "1. Facturación total de cada una de las tiendas: Tal como puede observarse en las gráficas N°1, 2 y 3, la tienda N°1 es la que facturó mas dinero en el período de tiempo analizado, presentado ventas por 1150.88 millones de pesos, lo cual, representa el 26.1% de la facturación de las 4 tiendas del Sr. Juan y, cuyos ingresos estuvieron 4.54% por encima del promedio de facturación de las 4 tiendas.\n",
        "\n",
        "Como contraparte, encontramos las tienda N°4 presentando la peor facturación de las tiendas con 1038.38 millones de peso, lo cual, representó el 23.6% de los ingresos del Sr. Juan por motivo de sus tiendas. Además, puede notarse en la gráfica N°3 que, la facturación de dicha tienda estuvo 5.68% por debajo del promedio de ventas de las 4 tiendas.\n",
        "\n",
        "Finalmente, las tienads N°2 y 3 ocupan las posiciones 2 y 3 respectivamente, con ventas que representan el 25.4% y 24.9% cada una, del total facturado por las tiendas del Sr. Juan.\n",
        "\n",
        "2. Ventas por categoria: En todas las tiendas destaca la venta de los siguientes tipos de producto, en el orden indicado:\n",
        "\n",
        "1ero: Muebles\n",
        "\n",
        "2do: Electrónicos\n",
        "\n",
        "3ero: Juguetes\n",
        "\n",
        "4to: Deportes y diversión\n",
        "\n",
        "5to: Electrodomésticos\n",
        "\n",
        "3. Calificación enviada por los usuarios a cada tienda: Las encuestas de satisfacción enviadas a los clientes muestran a las tiendas N°3 y 2, como las tiendas con mayor calificación por parte de los clientes con promedio de 4.05 y 4.04 respectivamente. Mientras que, en el tercer y cuarto lugar quedan las tiendas N°4 y 1 con calificación promedio de 4.00 y 3.98 respectivamente (tal infomración puede observarse en el gráfico N°4).\n",
        "\n",
        "En el gráfico N° 5 se plasmó las cantidad de calificaciones que cada tienda tuvo por tipo, mientras que, en el gráfico N°6 se muestran las calificaciones positivas, negativas y neutrales de cada tienda, tomando como positivas aquelas calificaciones mayores a 3, neutrales aquellas iguales a 3 y negativas las menores a 3. Ambos gráficos muestran a las tiendas N°1 y 4 como aquellas con mas calificaciones negativas, reafirmando lo expuesto en el parrafo anterior.\n",
        "\n",
        "4. Artículos mas y menos vendidos en cada tienda: como artículos con mas ventas destacan los microondas y las camas king como artículos presentes en el top 5 de artículos mas vendidos en mas de un tienda.\n",
        "\n",
        "Por su parte, entre los artículos menos vendidos destaca la mochila como en único artículo que aparece en el top 5 de artículos menos vendidos en mas de una tienda.\n",
        "\n",
        "5. Gastos por motivo de envíos de los productos:los calculos realizados muestran que los gastos de cada tienda por concepto de envíos es proporcional a la facturación, representando un 5.33% de la facturación en cada tienda, tal como puede observarse en la gráfica N°8.\n",
        "\n",
        "Para efectos de determinar la tienda menos eficiente de todas, los puntos 2 y 4 no aportan información relevante, mientras que el punto N°5 ofrece información no concluyente, ya que, los gastos de envío de cada tienda representan el mismo porcentaje de su facturación, en tal sentido, ninguna tienda está siendo mas o menos eficiente en este punto.\n",
        "\n",
        "En consecuencia, el análisis se reduce a los puntos N°1 (facturación) y N°3 (calificación de los clientes). Comparando las 4 tiendas en estos dos puntos, se pueden obtener resultados mas concluyentes observando las gráficas N°3, N°4 y N°6, de acuerdo con ellas, tenemos lo siguiente:\n",
        "\n",
        "\n",
        "Facturación respecto a la media:\n",
        "\n",
        "1er lugar: Tienda 1 (+4.54%)\n",
        "\n",
        "2do lugar: Tienda 2 (+1.40%)\n",
        "\n",
        "3er lugar: Tienda 3 (-0.26%)\n",
        "\n",
        "4to lugar: Tienda 4 (-5.68%)\n",
        "\n",
        "\n",
        "\n",
        "Promedio de calificaciones:\n",
        "\n",
        "1er lugar: Tienda 3 (4.05)\n",
        "\n",
        "2do lugar: Tienda 2 (4.04)\n",
        "\n",
        "3er lugar: Tienda 4 (4.00)\n",
        "\n",
        "4to lugar: Tienda 1 (3.98)\n",
        "\n",
        "\n",
        "\n",
        "Calificaciones negativas:\n",
        "\n",
        "1er lugar: Tienda 1 (405 calificaciones)\n",
        "\n",
        "2do lugar: Tienda 4 (395 calificaciones)\n",
        "\n",
        "3er lugar: Tienda 3 (376 calificaciones)\n",
        "\n",
        "4to lugar: Tienda 2 (366 calificaciones)\n",
        "\n",
        "\n",
        "La tienda N°2 presenta ventas por encima del promedio, y es la tienda con menor número de calificaciones negativas, en tal sentido, queda descartada. Por su parte, la tienda N°3 presenta facturación muy cercana al promedio, y es la tienda con mejor promedio de calificaciones, ante lo cual, también queda descartada.\n",
        "\n",
        "Finalmente, el análisis se reduce a las tiendas N°1 y N°4. La tienda N°1 es la peor calificada pero, es la que presenta mayor facturación con ventas sobre la media de +4.54%; por su parte, la tienda N°4 es la segunda peor calificada y la que presenta peor desempeño de ventas con un -5.68% respecto al promedio de ventas de las 4 tiendas.\n",
        "\n",
        "Las ventas de la tienda N°1 superan sobre un 10% las ventas de la tienda N°4, mientras la tienda N°4 supera en calificaciones a la tienda N°1 en 0.5%. La diferencia de calificaciones entre ambas tiendas es bastante baja en comparación con la diferencia en ventas, en tal sentido, la tienda con peor desempeño es la tienda N°4."
      ],
      "metadata": {
        "id": "GWn33hcK6XCa"
      }
    },
    {
      "cell_type": "markdown",
      "source": [],
      "metadata": {
        "id": "-bzKKwayzbsG"
      }
    }
  ]
}